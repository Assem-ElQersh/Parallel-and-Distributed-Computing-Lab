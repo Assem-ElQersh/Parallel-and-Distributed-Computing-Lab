{
  "cells": [
    {
      "cell_type": "markdown",
      "metadata": {
        "id": "bWa3clzsnOrS"
      },
      "source": [
        "Name: Mohamed Ayman Mohamed \\\n",
        "ID: 120200081 \\\n",
        "Section: CSE01"
      ]
    },
    {
      "cell_type": "code",
      "execution_count": 1,
      "metadata": {
        "colab": {
          "base_uri": "https://localhost:8080/"
        },
        "id": "rantlHUoeXwp",
        "outputId": "df7847fa-04a9-4bd6-bbc3-4bf65b7ce4aa"
      },
      "outputs": [
        {
          "name": "stdout",
          "output_type": "stream",
          "text": [
            "nvcc: NVIDIA (R) Cuda compiler driver\n",
            "Copyright (c) 2005-2023 NVIDIA Corporation\n",
            "Built on Tue_Aug_15_22:02:13_PDT_2023\n",
            "Cuda compilation tools, release 12.2, V12.2.140\n",
            "Build cuda_12.2.r12.2/compiler.33191640_0\n"
          ]
        }
      ],
      "source": [
        "!nvcc --version"
      ]
    },
    {
      "cell_type": "code",
      "execution_count": 4,
      "metadata": {
        "colab": {
          "base_uri": "https://localhost:8080/"
        },
        "id": "5jEIS5A7Z7Jq",
        "outputId": "f6b82e2b-ce82-4253-bb37-d467a75a4161"
      },
      "outputs": [
        {
          "name": "stdout",
          "output_type": "stream",
          "text": [
            "bin    cuda\tcuda-12.2  games\t       include\tlib64\t   man\t share\n",
            "colab  cuda-12\tetc\t   _gcs_config_ops.so  lib\tlicensing  sbin  src\n"
          ]
        }
      ],
      "source": [
        "!ls /usr/local"
      ]
    },
    {
      "cell_type": "code",
      "execution_count": 5,
      "metadata": {
        "colab": {
          "base_uri": "https://localhost:8080/"
        },
        "id": "BPEYj6m5hvhr",
        "outputId": "618ec0f1-3c3c-43f3-d7c7-c59119fd33f1"
      },
      "outputs": [
        {
          "name": "stdout",
          "output_type": "stream",
          "text": [
            "/usr/local/cuda/bin/nvcc\n"
          ]
        }
      ],
      "source": [
        "!which nvcc"
      ]
    },
    {
      "cell_type": "code",
      "execution_count": 6,
      "metadata": {
        "colab": {
          "base_uri": "https://localhost:8080/"
        },
        "id": "boqI4funiYjK",
        "outputId": "b472a52b-4a4a-4cde-cd6a-b6f917df7ce2"
      },
      "outputs": [
        {
          "name": "stdout",
          "output_type": "stream",
          "text": [
            "Tue May 21 19:06:39 2024       \n",
            "+---------------------------------------------------------------------------------------+\n",
            "| NVIDIA-SMI 535.104.05             Driver Version: 535.104.05   CUDA Version: 12.2     |\n",
            "|-----------------------------------------+----------------------+----------------------+\n",
            "| GPU  Name                 Persistence-M | Bus-Id        Disp.A | Volatile Uncorr. ECC |\n",
            "| Fan  Temp   Perf          Pwr:Usage/Cap |         Memory-Usage | GPU-Util  Compute M. |\n",
            "|                                         |                      |               MIG M. |\n",
            "|=========================================+======================+======================|\n",
            "|   0  Tesla T4                       Off | 00000000:00:04.0 Off |                    0 |\n",
            "| N/A   42C    P8               9W /  70W |      0MiB / 15360MiB |      0%      Default |\n",
            "|                                         |                      |                  N/A |\n",
            "+-----------------------------------------+----------------------+----------------------+\n",
            "                                                                                         \n",
            "+---------------------------------------------------------------------------------------+\n",
            "| Processes:                                                                            |\n",
            "|  GPU   GI   CI        PID   Type   Process name                            GPU Memory |\n",
            "|        ID   ID                                                             Usage      |\n",
            "|=======================================================================================|\n",
            "|  No running processes found                                                           |\n",
            "+---------------------------------------------------------------------------------------+\n"
          ]
        }
      ],
      "source": [
        "!nvidia-smi"
      ]
    },
    {
      "cell_type": "code",
      "execution_count": 23,
      "metadata": {
        "colab": {
          "base_uri": "https://localhost:8080/"
        },
        "id": "9dFqQuY7jwp1",
        "outputId": "e5f5cecf-ab33-4705-bb67-9c5bc68c24d8"
      },
      "outputs": [
        {
          "name": "stdout",
          "output_type": "stream",
          "text": [
            "Overwriting matrix_mul.cu\n"
          ]
        }
      ],
      "source": [
        "%%writefile matrix_mul.cu\n",
        "\n",
        "/*\n",
        "Name: Mohamed Ayman\n",
        "\n",
        "ID: 120200081\n",
        "\n",
        "Section: CSE01\n",
        "*/\n",
        "\n",
        "#include <stdio.h>\n",
        "#include <stdlib.h>\n",
        "#include <assert.h>\n",
        "\n",
        "#define BLOCK_SIZE 16\n",
        "\n",
        "\n",
        "__global__ void matrix_mult(int *d_a, int *d_b, int *d_result, int n)\n",
        "{\n",
        "    __shared__ int tile_a[BLOCK_SIZE][BLOCK_SIZE];\n",
        "    __shared__ int tile_b[BLOCK_SIZE][BLOCK_SIZE];\n",
        "\n",
        "    int row = blockIdx.y * BLOCK_SIZE + threadIdx.y;\n",
        "    int col = blockIdx.x * BLOCK_SIZE + threadIdx.x;\n",
        "    int tmp = 0;\n",
        "    int idx;\n",
        "\n",
        "    for (int sub = 0; sub < gridDim.x; ++sub)\n",
        "    {\n",
        "        idx = row * n + sub * BLOCK_SIZE + threadIdx.x;\n",
        "        if(idx >= n*n)\n",
        "        {\n",
        "            // n may not divisible by BLOCK_SIZE\n",
        "            tile_a[threadIdx.y][threadIdx.x] = 0;\n",
        "        }\n",
        "        else\n",
        "        {\n",
        "            tile_a[threadIdx.y][threadIdx.x] = d_a[idx];\n",
        "        }\n",
        "\n",
        "        idx = (sub * BLOCK_SIZE + threadIdx.y) * n + col;\n",
        "        if(idx >= n*n)\n",
        "        {\n",
        "            tile_b[threadIdx.y][threadIdx.x] = 0;\n",
        "        }\n",
        "        else\n",
        "        {\n",
        "            tile_b[threadIdx.y][threadIdx.x] = d_b[idx];\n",
        "        }\n",
        "        __syncthreads();\n",
        "\n",
        "        for (int k = 0; k < BLOCK_SIZE; ++k)\n",
        "        {\n",
        "            tmp += tile_a[threadIdx.y][k] * tile_b[k][threadIdx.x];\n",
        "        }\n",
        "        __syncthreads();\n",
        "    }\n",
        "    if(row < n && col < n)\n",
        "    {\n",
        "        d_result[row * n + col] = tmp;\n",
        "    }\n",
        "}\n",
        "\n",
        "\n",
        "int main(int argc, char const *argv[])\n",
        "{\n",
        "    int n;\n",
        "    srand(542002); // fixed seed for reproducability\n",
        "    printf(\"please enter n:\");\n",
        "    scanf(\"%d\", &n);\n",
        "\n",
        "    // allocate memory in host RAM, h_cc is used to store CPU result\n",
        "    int *h_a, *h_b, *h_c;\n",
        "    cudaMallocHost((void **) &h_a, sizeof(int)*n*n);\n",
        "    cudaMallocHost((void **) &h_b, sizeof(int)*n*n);\n",
        "    cudaMallocHost((void **) &h_c, sizeof(int)*n*n);\n",
        "\n",
        "    // random initialize matrix A\n",
        "    for (int i = 0; i < n; ++i) {\n",
        "        for (int j = 0; j < n; ++j) {\n",
        "            h_a[i * n + j] = rand() % 1024;\n",
        "        }\n",
        "    }\n",
        "\n",
        "    // random initialize matrix B\n",
        "    for (int i = 0; i < n; ++i) {\n",
        "        for (int j = 0; j < n; ++j) {\n",
        "            h_b[i * n + j] = rand() % 1024;\n",
        "        }\n",
        "    }\n",
        "\n",
        "    float gpu_elapsed_time_ms, cpu_elapsed_time_ms;\n",
        "\n",
        "    // some events to count the execution time\n",
        "    cudaEvent_t start, stop;\n",
        "    cudaEventCreate(&start);\n",
        "    cudaEventCreate(&stop);\n",
        "\n",
        "    // start to count execution time of GPU version\n",
        "    cudaEventRecord(start, 0);\n",
        "    // Allocate memory space on the device\n",
        "    int *d_a, *d_b, *d_c;\n",
        "    cudaMalloc((void **) &d_a, sizeof(int)*n*n);\n",
        "    cudaMalloc((void **) &d_b, sizeof(int)*n*n);\n",
        "    cudaMalloc((void **) &d_c, sizeof(int)*n*n);\n",
        "\n",
        "    // copy matrix A and B from host to device memory\n",
        "    cudaMemcpy(d_a, h_a, sizeof(int)*n*n, cudaMemcpyHostToDevice);\n",
        "    cudaMemcpy(d_b, h_b, sizeof(int)*n*n, cudaMemcpyHostToDevice);\n",
        "\n",
        "    unsigned int grid_rows = (n + BLOCK_SIZE - 1) / BLOCK_SIZE;\n",
        "    unsigned int grid_cols = (n + BLOCK_SIZE - 1) / BLOCK_SIZE;\n",
        "    dim3 dimGrid(grid_cols, grid_rows);\n",
        "    dim3 dimBlock(BLOCK_SIZE, BLOCK_SIZE);\n",
        "\n",
        "    matrix_mult<<<dimGrid, dimBlock>>>(d_a, d_b, d_c, n);\n",
        "\n",
        "    // Transefr results from device to host\n",
        "    cudaMemcpy(h_c, d_c, sizeof(int)*n*n, cudaMemcpyDeviceToHost);\n",
        "    cudaDeviceSynchronize();\n",
        "    // time counting terminate\n",
        "    cudaEventRecord(stop, 0);\n",
        "    cudaEventSynchronize(stop);\n",
        "\n",
        "    // compute time elapse on GPU computing\n",
        "    cudaEventElapsedTime(&gpu_elapsed_time_ms, start, stop);\n",
        "    printf(\"Time elapsed on matrix multiplication of %dx%d . %dx%d on GPU: %f ms.\\n\\n\", n, n, n, n, gpu_elapsed_time_ms);\n",
        "\n",
        "    // free memory\n",
        "    cudaFree(d_a);\n",
        "    cudaFree(d_b);\n",
        "    cudaFree(d_c);\n",
        "    cudaFreeHost(h_a);\n",
        "    cudaFreeHost(h_b);\n",
        "    cudaFreeHost(h_c);\n",
        "    return 0;\n",
        "}"
      ]
    },
    {
      "cell_type": "code",
      "execution_count": 24,
      "metadata": {
        "colab": {
          "base_uri": "https://localhost:8080/"
        },
        "id": "VCTTpyOrkGdi",
        "outputId": "96411443-0e94-4793-d0ba-d527efdc22c8"
      },
      "outputs": [
        {
          "name": "stdout",
          "output_type": "stream",
          "text": [
            "\u001b[01m\u001b[0m\u001b[01mmatrix_mul.cu(91)\u001b[0m: \u001b[01;35mwarning\u001b[0m #177-D: variable \u001b[01m\"cpu_elapsed_time_ms\"\u001b[0m was declared but never referenced\n",
            "      float gpu_elapsed_time_ms, cpu_elapsed_time_ms;\n",
            "                                 ^\n",
            "\n",
            "\u001b[01;36m\u001b[0m\u001b[01;36mRemark\u001b[0m: The warnings can be suppressed with \"-diag-suppress <warning-number>\"\n",
            "\n"
          ]
        }
      ],
      "source": [
        "!nvcc -o matrix_mul matrix_mul.cu"
      ]
    },
    {
      "cell_type": "code",
      "execution_count": 27,
      "metadata": {
        "colab": {
          "base_uri": "https://localhost:8080/"
        },
        "id": "-W8VpWmxmR12",
        "outputId": "ee8d38a4-68cf-419a-f9f7-3b1267a52f35"
      },
      "outputs": [
        {
          "name": "stdout",
          "output_type": "stream",
          "text": [
            "please enter n:4096\n",
            "Time elapsed on matrix multiplication of 4096x4096 . 4096x4096 on GPU: 311.559357 ms.\n",
            "\n"
          ]
        }
      ],
      "source": [
        "!./matrix_mul"
      ]
    }
  ],
  "metadata": {
    "accelerator": "GPU",
    "colab": {
      "gpuType": "T4",
      "provenance": []
    },
    "kernelspec": {
      "display_name": "Python 3",
      "name": "python3"
    },
    "language_info": {
      "name": "python"
    }
  },
  "nbformat": 4,
  "nbformat_minor": 0
}

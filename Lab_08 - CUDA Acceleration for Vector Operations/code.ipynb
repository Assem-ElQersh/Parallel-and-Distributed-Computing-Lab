{
  "cells": [
    {
      "cell_type": "markdown",
      "metadata": {
        "id": "PzKzEYtecPzs"
      },
      "source": [
        "# Parallel Programming Lab\n",
        "**Name:** Assem Saied ElQersh  \n",
        "**ID:** 120210321"
      ]
    },
    {
      "cell_type": "markdown",
      "metadata": {
        "id": "EQAAlzxJcPzu"
      },
      "source": [
        "## Check CUDA Installation"
      ]
    },
    {
      "cell_type": "code",
      "execution_count": null,
      "metadata": {
        "colab": {
          "base_uri": "https://localhost:8080/"
        },
        "id": "yYrOPA-6cPzu",
        "outputId": "e01be531-7f3d-4929-c4cd-1ed73e87eb7c"
      },
      "outputs": [
        {
          "output_type": "stream",
          "name": "stdout",
          "text": [
            "nvcc: NVIDIA (R) Cuda compiler driver\n",
            "Copyright (c) 2005-2024 NVIDIA Corporation\n",
            "Built on Thu_Jun__6_02:18:23_PDT_2024\n",
            "Cuda compilation tools, release 12.5, V12.5.82\n",
            "Build cuda_12.5.r12.5/compiler.34385749_0\n",
            "/usr/local/cuda/bin/nvcc\n",
            "Fri May 16 19:00:03 2025       \n",
            "+-----------------------------------------------------------------------------------------+\n",
            "| NVIDIA-SMI 550.54.15              Driver Version: 550.54.15      CUDA Version: 12.4     |\n",
            "|-----------------------------------------+------------------------+----------------------+\n",
            "| GPU  Name                 Persistence-M | Bus-Id          Disp.A | Volatile Uncorr. ECC |\n",
            "| Fan  Temp   Perf          Pwr:Usage/Cap |           Memory-Usage | GPU-Util  Compute M. |\n",
            "|                                         |                        |               MIG M. |\n",
            "|=========================================+========================+======================|\n",
            "|   0  Tesla T4                       Off |   00000000:00:04.0 Off |                    0 |\n",
            "| N/A   33C    P8              9W /   70W |       0MiB /  15360MiB |      0%      Default |\n",
            "|                                         |                        |                  N/A |\n",
            "+-----------------------------------------+------------------------+----------------------+\n",
            "                                                                                         \n",
            "+-----------------------------------------------------------------------------------------+\n",
            "| Processes:                                                                              |\n",
            "|  GPU   GI   CI        PID   Type   Process name                              GPU Memory |\n",
            "|        ID   ID                                                               Usage      |\n",
            "|=========================================================================================|\n",
            "|  No running processes found                                                             |\n",
            "+-----------------------------------------------------------------------------------------+\n"
          ]
        }
      ],
      "source": [
        "# System checks\n",
        "!nvcc --version\n",
        "!which nvcc\n",
        "!nvidia-smi"
      ]
    },
    {
      "cell_type": "markdown",
      "metadata": {
        "id": "AW_L3orGcPzv"
      },
      "source": [
        "## Problem 1: Vector Addition (2^24 elements)\n",
        "\n",
        "### CUDA Implementation"
      ]
    },
    {
      "cell_type": "code",
      "execution_count": null,
      "metadata": {
        "colab": {
          "base_uri": "https://localhost:8080/"
        },
        "id": "Yqx4wrkCcPzv",
        "outputId": "33f9f974-a21f-40de-cf2a-f8750169d7a5"
      },
      "outputs": [
        {
          "output_type": "stream",
          "name": "stdout",
          "text": [
            "Overwriting vector_add.cu\n"
          ]
        }
      ],
      "source": [
        "%%writefile vector_add.cu\n",
        "#include <iostream>\n",
        "#include <cuda_runtime.h>\n",
        "\n",
        "__global__ void vectorAdd(const float *a, const float *b, float *c, int n) {\n",
        "    int i = blockIdx.x * blockDim.x + threadIdx.x;\n",
        "    if (i < n) c[i] = a[i] + b[i];\n",
        "}\n",
        "\n",
        "int main() {\n",
        "    const int N = 1 << 24;\n",
        "    size_t size = N * sizeof(float);\n",
        "\n",
        "    // Allocate pinned memory\n",
        "    float *h_a, *h_b, *h_c;\n",
        "    cudaMallocHost(&h_a, size);\n",
        "    cudaMallocHost(&h_b, size);\n",
        "    cudaMallocHost(&h_c, size);\n",
        "\n",
        "    // Initialize vectors\n",
        "    for (int i = 0; i < N; ++i) {\n",
        "        h_a[i] = static_cast<float>(rand()) / RAND_MAX;\n",
        "        h_b[i] = static_cast<float>(rand()) / RAND_MAX;\n",
        "    }\n",
        "\n",
        "    // GPU execution\n",
        "    float *d_a, *d_b, *d_c;\n",
        "    cudaMalloc(&d_a, size);\n",
        "    cudaMalloc(&d_b, size);\n",
        "    cudaMalloc(&d_c, size);\n",
        "\n",
        "    cudaEvent_t start, stop;\n",
        "    cudaEventCreate(&start);\n",
        "    cudaEventCreate(&stop);\n",
        "\n",
        "    cudaEventRecord(start);\n",
        "    cudaMemcpy(d_a, h_a, size, cudaMemcpyHostToDevice);\n",
        "    cudaMemcpy(d_b, h_b, size, cudaMemcpyHostToDevice);\n",
        "\n",
        "    int blockSize = 256;\n",
        "    int numBlocks = (N + blockSize - 1) / blockSize;\n",
        "    vectorAdd<<<numBlocks, blockSize>>>(d_a, d_b, d_c, N);\n",
        "\n",
        "    cudaMemcpy(h_c, d_c, size, cudaMemcpyDeviceToHost);\n",
        "    cudaEventRecord(stop);\n",
        "    cudaEventSynchronize(stop);\n",
        "\n",
        "    float ms;\n",
        "    cudaEventElapsedTime(&ms, start, stop);\n",
        "    std::cout << \"CUDA Vector Add Time: \" << ms << \" ms\\n\";\n",
        "\n",
        "    // Cleanup\n",
        "    cudaFree(d_a); cudaFree(d_b); cudaFree(d_c);\n",
        "    cudaFreeHost(h_a); cudaFreeHost(h_b); cudaFreeHost(h_c);\n",
        "    return 0;\n",
        "}"
      ]
    },
    {
      "cell_type": "code",
      "execution_count": null,
      "metadata": {
        "colab": {
          "base_uri": "https://localhost:8080/"
        },
        "id": "RNG6ptqGcPzw",
        "outputId": "208ddfb2-f1a0-4df0-9c41-3923429ec0fb"
      },
      "outputs": [
        {
          "output_type": "stream",
          "name": "stdout",
          "text": [
            "CUDA Vector Add Time: 24.9311 ms\n"
          ]
        }
      ],
      "source": [
        "!nvcc -o vector_add vector_add.cu\n",
        "!./vector_add"
      ]
    },
    {
      "cell_type": "markdown",
      "metadata": {
        "id": "a2xFYMfRcPzw"
      },
      "source": [
        "### Problem 1: C++ Implementation"
      ]
    },
    {
      "cell_type": "code",
      "execution_count": null,
      "metadata": {
        "colab": {
          "base_uri": "https://localhost:8080/"
        },
        "id": "AuvmEQgZcPzw",
        "outputId": "50083353-1687-4aa1-fc4b-cd1cb5c89fef"
      },
      "outputs": [
        {
          "output_type": "stream",
          "name": "stdout",
          "text": [
            "Overwriting vector_add.cpp\n"
          ]
        }
      ],
      "source": [
        "%%writefile vector_add.cpp\n",
        "#include <iostream>\n",
        "#include <vector>\n",
        "#include <chrono>\n",
        "\n",
        "int main() {\n",
        "    const int N = 1 << 24;\n",
        "    std::vector<float> a(N), b(N), c(N);\n",
        "\n",
        "    // Initialize vectors\n",
        "    for (int i = 0; i < N; ++i) {\n",
        "        a[i] = static_cast<float>(rand()) / RAND_MAX;\n",
        "        b[i] = static_cast<float>(rand()) / RAND_MAX;\n",
        "    }\n",
        "\n",
        "    auto start = std::chrono::high_resolution_clock::now();\n",
        "    for (int i = 0; i < N; ++i)\n",
        "        c[i] = a[i] + b[i];\n",
        "    auto end = std::chrono::high_resolution_clock::now();\n",
        "\n",
        "    auto duration = std::chrono::duration_cast<std::chrono::milliseconds>(end - start).count();\n",
        "    std::cout << \"C++ Vector Add Time: \" << duration << \" ms\\n\";\n",
        "    return 0;\n",
        "}"
      ]
    },
    {
      "cell_type": "code",
      "execution_count": null,
      "metadata": {
        "colab": {
          "base_uri": "https://localhost:8080/"
        },
        "id": "szLXXiXLcPzw",
        "outputId": "214c1b2e-7d42-408f-abd4-81b9af41d9cc"
      },
      "outputs": [
        {
          "output_type": "stream",
          "name": "stdout",
          "text": [
            "C++ Vector Add Time: 19 ms\n"
          ]
        }
      ],
      "source": [
        "!g++ -O3 -o vector_add_cpp vector_add.cpp\n",
        "!./vector_add_cpp"
      ]
    },
    {
      "cell_type": "markdown",
      "metadata": {
        "id": "EcKMoPAccPzx"
      },
      "source": [
        "## Problem 2: 4D Vector Normalization (2^22 elements)\n",
        "\n",
        "### CUDA Implementation"
      ]
    },
    {
      "cell_type": "code",
      "execution_count": null,
      "metadata": {
        "colab": {
          "base_uri": "https://localhost:8080/"
        },
        "id": "OgpMrDCkcPzx",
        "outputId": "461f608a-f718-464f-f2e9-01d836aeecc7"
      },
      "outputs": [
        {
          "output_type": "stream",
          "name": "stdout",
          "text": [
            "Overwriting normalize.cu\n"
          ]
        }
      ],
      "source": [
        "%%writefile normalize.cu\n",
        "#include <iostream>\n",
        "#include <cuda_runtime.h>\n",
        "\n",
        "__global__ void normalize_kernel(float4 *input, float4 *output, int n) {\n",
        "    int idx = blockIdx.x * blockDim.x + threadIdx.x;\n",
        "    if (idx < n) {\n",
        "        float4 vec = input[idx];\n",
        "        float sum = vec.x*vec.x + vec.y*vec.y + vec.z*vec.z + vec.w*vec.w;\n",
        "        float inv_norm = rsqrtf(sum + 1e-8f);  // Use fast inverse square root\n",
        "        output[idx] = make_float4(vec.x*inv_norm, vec.y*inv_norm, vec.z*inv_norm, vec.w*inv_norm);\n",
        "    }\n",
        "}\n",
        "\n",
        "int main() {\n",
        "    const int N = 1 << 22;\n",
        "    float4 *h_input, *h_output;\n",
        "    cudaMallocHost(&h_input, N*sizeof(float4));\n",
        "    cudaMallocHost(&h_output, N*sizeof(float4));\n",
        "\n",
        "    // Initialize vectors\n",
        "    for (int i = 0; i < N; ++i) {\n",
        "        h_input[i] = make_float4(\n",
        "            static_cast<float>(rand())/RAND_MAX,\n",
        "            static_cast<float>(rand())/RAND_MAX,\n",
        "            static_cast<float>(rand())/RAND_MAX,\n",
        "            static_cast<float>(rand())/RAND_MAX\n",
        "        );\n",
        "    }\n",
        "\n",
        "    // GPU execution\n",
        "    float4 *d_input, *d_output;\n",
        "    cudaMalloc(&d_input, N*sizeof(float4));\n",
        "    cudaMalloc(&d_output, N*sizeof(float4));\n",
        "\n",
        "    cudaEvent_t start, stop;\n",
        "    cudaEventCreate(&start);\n",
        "    cudaEventCreate(&stop);\n",
        "\n",
        "    cudaEventRecord(start);\n",
        "    cudaMemcpy(d_input, h_input, N*sizeof(float4), cudaMemcpyHostToDevice);\n",
        "    normalize_kernel<<<(N+255)/256, 256>>>(d_input, d_output, N);\n",
        "    cudaMemcpy(h_output, d_output, N*sizeof(float4), cudaMemcpyDeviceToHost);\n",
        "    cudaEventRecord(stop);\n",
        "    cudaEventSynchronize(stop);\n",
        "\n",
        "    float ms;\n",
        "    cudaEventElapsedTime(&ms, start, stop);\n",
        "    std::cout << \"CUDA Normalization Time: \" << ms << \" ms\\n\";\n",
        "\n",
        "    // Cleanup\n",
        "    cudaFree(d_input); cudaFree(d_output);\n",
        "    cudaFreeHost(h_input); cudaFreeHost(h_output);\n",
        "    return 0;\n",
        "}"
      ]
    },
    {
      "cell_type": "code",
      "execution_count": null,
      "metadata": {
        "colab": {
          "base_uri": "https://localhost:8080/"
        },
        "id": "LCeLkKzScPzx",
        "outputId": "5b1c0cdb-2c4e-43af-8205-ca14695226bd"
      },
      "outputs": [
        {
          "output_type": "stream",
          "name": "stdout",
          "text": [
            "CUDA Normalization Time: 20.6321 ms\n"
          ]
        }
      ],
      "source": [
        "!nvcc -o normalize normalize.cu\n",
        "!./normalize"
      ]
    },
    {
      "cell_type": "markdown",
      "metadata": {
        "id": "SSwgxkDKcPzx"
      },
      "source": [
        "### Problem 2: C++ Implementation"
      ]
    },
    {
      "cell_type": "code",
      "execution_count": null,
      "metadata": {
        "colab": {
          "base_uri": "https://localhost:8080/"
        },
        "id": "ePM52v9XcPzx",
        "outputId": "9c07f292-7cab-4062-a222-d02a886bf626"
      },
      "outputs": [
        {
          "output_type": "stream",
          "name": "stdout",
          "text": [
            "Overwriting normalize.cpp\n"
          ]
        }
      ],
      "source": [
        "%%writefile normalize.cpp\n",
        "#include <iostream>\n",
        "#include <vector>\n",
        "#include <chrono>\n",
        "#include <cmath>\n",
        "\n",
        "struct float4 { float x, y, z, w; };\n",
        "\n",
        "int main() {\n",
        "    const int N = 1 << 22;\n",
        "    std::vector<float4> input(N), output(N);\n",
        "\n",
        "    // Initialize vectors\n",
        "    for (int i = 0; i < N; ++i) {\n",
        "        input[i] = {\n",
        "            static_cast<float>(rand())/RAND_MAX,\n",
        "            static_cast<float>(rand())/RAND_MAX,\n",
        "            static_cast<float>(rand())/RAND_MAX,\n",
        "            static_cast<float>(rand())/RAND_MAX\n",
        "        };\n",
        "    }\n",
        "\n",
        "    auto start = std::chrono::high_resolution_clock::now();\n",
        "    for (int i = 0; i < N; ++i) {\n",
        "        float sum = input[i].x*input[i].x +\n",
        "                   input[i].y*input[i].y +\n",
        "                   input[i].z*input[i].z +\n",
        "                   input[i].w*input[i].w;\n",
        "        float inv_norm = 1.0f / sqrt(sum + 1e-8f);\n",
        "        output[i] = {\n",
        "            input[i].x * inv_norm,\n",
        "            input[i].y * inv_norm,\n",
        "            input[i].z * inv_norm,\n",
        "            input[i].w * inv_norm\n",
        "        };\n",
        "    }\n",
        "    auto end = std::chrono::high_resolution_clock::now();\n",
        "\n",
        "    auto duration = std::chrono::duration_cast<std::chrono::milliseconds>(end - start).count();\n",
        "    std::cout << \"C++ Normalization Time: \" << duration << \" ms\\n\";\n",
        "    return 0;\n",
        "}"
      ]
    },
    {
      "cell_type": "code",
      "execution_count": null,
      "metadata": {
        "colab": {
          "base_uri": "https://localhost:8080/"
        },
        "id": "6asvR-mdcPzx",
        "outputId": "3b137960-dad9-48e0-bbd1-9ac8efc4221a"
      },
      "outputs": [
        {
          "output_type": "stream",
          "name": "stdout",
          "text": [
            "C++ Normalization Time: 22 ms\n"
          ]
        }
      ],
      "source": [
        "!g++ -O3 -o normalize_cpp normalize.cpp\n",
        "!./normalize_cpp"
      ]
    },
    {
      "cell_type": "markdown",
      "metadata": {
        "id": "D79VyWuGcPzx"
      },
      "source": [
        "## Performance Comparison and Analysis\n",
        "\n",
        "After running the code above, fill in the execution times and analyze the results:\n",
        "\n",
        "| Problem | CUDA Time (ms) | C++ Time (ms) | Speedup Factor |\n",
        "|---------|----------------|---------------|----------------|\n",
        "| Vector Addition | 24.9311 | 19 | 0.76x |\n",
        "| Vector Normalization | 20.6321 | 22 | 1.07x |\n",
        "\n",
        "### Analysis:\n",
        "\n",
        "1. **Vector Addition**:\n",
        "   - The C++ implementation (19ms) outperforms the CUDA implementation (24.93ms) by approximately 24%\n",
        "   - This is primarily due to the overhead of memory transfers between CPU and GPU\n",
        "   - The simple nature of vector addition (one addition per element) doesn't provide enough computational intensity to overcome the memory transfer overhead\n",
        "   - The CUDA implementation uses pinned memory (cudaMallocHost) which helps with transfer speeds but still incurs overhead\n",
        "\n",
        "2. **Vector Normalization**:\n",
        "   - The CUDA implementation (20.63ms) slightly outperforms the C++ version (22ms) by about 7%\n",
        "   - This is because normalization is more computationally intensive, involving:\n",
        "     - Multiple multiplications per element\n",
        "     - Square root calculation (using fast rsqrtf in CUDA)\n",
        "     - Division operations\n",
        "   - The higher computational intensity helps offset the memory transfer overhead\n",
        "\n",
        "3. **Performance Factors**:\n",
        "   - Memory Transfer Overhead:\n",
        "     - Each CUDA operation requires host-to-device and device-to-host transfers\n",
        "     - For small operations, this overhead can be significant\n",
        "   - Computational Intensity:\n",
        "     - Operations with higher computational intensity (like normalization) benefit more from GPU parallelization\n",
        "     - Simple operations (like addition) may not benefit enough to overcome transfer overhead\n",
        "   - Memory Access Patterns:\n",
        "     - Both implementations use contiguous memory access\n",
        "     - CUDA benefits from coalesced memory access in the kernel\n",
        "   - Hardware Utilization:\n",
        "     - The Tesla T4 GPU used in testing has good compute capabilities\n",
        "     - The CPU implementation benefits from modern CPU optimizations and cache utilization\n",
        "\n",
        "4. **Conclusion**:\n",
        "   - CUDA's performance advantage depends heavily on the computational intensity of the operation\n",
        "   - For simple operations like vector addition, CPU implementations can be faster due to lower overhead\n",
        "   - For more complex operations like normalization, CUDA can provide better performance\n",
        "   - The break-even point for GPU acceleration depends on:\n",
        "     - Problem size\n",
        "     - Computational intensity\n",
        "     - Memory transfer requirements\n",
        "   - For real-world applications, the decision to use CUDA should consider:\n",
        "     - The nature of the computation\n",
        "     - Data size\n",
        "     - Required precision\n",
        "     - Development complexity"
      ]
    }
  ],
  "metadata": {
    "kernelspec": {
      "display_name": "Python 3",
      "name": "python3"
    },
    "language_info": {
      "codemirror_mode": {
        "name": "ipython",
        "version": 3
      },
      "file_extension": ".py",
      "mimetype": "text/x-python",
      "name": "python",
      "nbconvert_exporter": "python",
      "pygments_lexer": "ipython3",
      "version": "3.8.5"
    },
    "colab": {
      "provenance": [],
      "gpuType": "T4"
    },
    "accelerator": "GPU"
  },
  "nbformat": 4,
  "nbformat_minor": 0
}